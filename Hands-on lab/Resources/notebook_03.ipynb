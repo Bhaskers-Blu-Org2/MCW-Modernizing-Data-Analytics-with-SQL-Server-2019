{
    "metadata": {
        "kernelspec": {
            "name": "SQL",
            "display_name": "SQL",
            "language": "sql"
        },
        "language_info": {
            "name": "sql",
            "version": ""
        }
    },
    "nbformat_minor": 2,
    "nbformat": 4,
    "cells": [
        {
            "cell_type": "markdown",
            "source": "<img src=\"https://github.com/Microsoft/sqlworkshops/blob/master/graphics/solutions-microsoft-logo-small.png?raw=true\" alt=\"Microsoft\">\r\n<br>\r\n\r\n# SQL Server 2019 big data cluster Tutorial\r\n## 03 - Creating and Querying a Data Mart\r\n\r\nIn this tutorial you will learn how to create and query a Data Mart using Virtualized Data in a SQL Server big data cluster. \r\n\r\nWide World Importers is interested in ingesting the data from web logs from an HDFS source where they have been streamed. They want to be able to analyze the traffic to see if there is a pattern in time, products or locations. \r\n\r\nThe web logs, however, are refreshed periodically. WWI would like to keep the logs in local storage to do deeper analysis. \r\n\r\nIn this Jupyter Notebook you'll create a location to store the log files as a SQL Server Table in the SQL Data Pool, and then fill it by creating an External Table that reads HDFS.",
            "metadata": {}
        },
        {
            "cell_type": "code",
            "source": "USE [WideWorldImporters-Full];\r\nGO\r\n\r\n  IF NOT EXISTS(SELECT * FROM sys.external_data_sources WHERE name = 'SqlDataPool')\r\n      CREATE EXTERNAL DATA SOURCE SqlDataPool\r\n      WITH (LOCATION = 'sqldatapool://controller-svc:8080/datapools/default');",
            "metadata": {},
            "outputs": [
                {
                    "output_type": "display_data",
                    "data": {
                        "text/html": "Commands completed successfully."
                    },
                    "metadata": {}
                },
                {
                    "output_type": "display_data",
                    "data": {
                        "text/html": "Commands completed successfully."
                    },
                    "metadata": {}
                },
                {
                    "output_type": "display_data",
                    "data": {
                        "text/html": "Total execution time: 00:00:00.004"
                    },
                    "metadata": {}
                }
            ],
            "execution_count": 1
        },
        {
            "cell_type": "code",
            "source": "CREATE EXTERNAL TABLE [web_clickstream_clicks_data_pool]\r\n    (\"wcs_click_date_sk\" BIGINT \r\n    , \"wcs_click_time_sk\" BIGINT \r\n    , \"wcs_sales_sk\" BIGINT \r\n    , \"wcs_item_sk\" BIGINT\r\n    , \"wcs_web_page_sk\" BIGINT \r\n    , \"wcs_user_sk\" BIGINT)\r\n    WITH\r\n    (\r\n    DATA_SOURCE = SqlDataPool,\r\n    DISTRIBUTION = ROUND_ROBIN\r\n    );\r\nGO",
            "metadata": {},
            "outputs": [
                {
                    "output_type": "display_data",
                    "data": {
                        "text/html": "Commands completed successfully."
                    },
                    "metadata": {}
                },
                {
                    "output_type": "display_data",
                    "data": {
                        "text/html": "Total execution time: 00:00:04.490"
                    },
                    "metadata": {}
                }
            ],
            "execution_count": 2
        },
        {
            "cell_type": "code",
            "source": "/* Create an External Table that can read from the Storage Pool File Location */\r\nIF NOT EXISTS(SELECT * FROM sys.external_tables WHERE name = 'web_clickstreams_hdfs')\r\nBEGIN\r\n    CREATE EXTERNAL TABLE [web_clickstreams_hdfs]\r\n    (\"wcs_click_date_sk\" BIGINT \r\n    , \"wcs_click_time_sk\" BIGINT \r\n    , \"wcs_sales_sk\" BIGINT \r\n    , \"wcs_item_sk\" BIGINT\r\n    , \"wcs_web_page_sk\" BIGINT \r\n    , \"wcs_user_sk\" BIGINT)\r\n    WITH\r\n    (\r\n        DATA_SOURCE = SqlStoragePool,\r\n        LOCATION = '/web_logs',\r\n        FILE_FORMAT = csv_file\r\n    );\r\nEND",
            "metadata": {},
            "outputs": [
                {
                    "output_type": "display_data",
                    "data": {
                        "text/html": "Commands completed successfully."
                    },
                    "metadata": {}
                },
                {
                    "output_type": "display_data",
                    "data": {
                        "text/html": "Total execution time: 00:00:00.001"
                    },
                    "metadata": {}
                }
            ],
            "execution_count": 12
        },
        {
            "cell_type": "code",
            "source": "BEGIN\r\n   INSERT INTO web_clickstream_clicks_data_pool\r\n   SELECT wcs_click_date_sk\r\n    , wcs_click_time_sk \r\n    , wcs_sales_sk \r\n    , wcs_item_sk \r\n    , wcs_web_page_sk  \r\n    , wcs_user_sk \r\n     FROM web_clickstreams_hdfs\r\nEND",
            "metadata": {},
            "outputs": [
                {
                    "output_type": "display_data",
                    "data": {
                        "text/html": "(6770549 rows affected)"
                    },
                    "metadata": {}
                },
                {
                    "output_type": "display_data",
                    "data": {
                        "text/html": "Total execution time: 00:00:34.004"
                    },
                    "metadata": {}
                }
            ],
            "execution_count": 13
        },
        {
            "cell_type": "code",
            "source": "SELECT count(*) AS TotalRecords FROM [dbo].[web_clickstream_clicks_data_pool]\r\nSELECT TOP 10 * FROM [dbo].[web_clickstream_clicks_data_pool]",
            "metadata": {},
            "outputs": [
                {
                    "output_type": "display_data",
                    "data": {
                        "text/html": "(1 row affected)"
                    },
                    "metadata": {}
                },
                {
                    "output_type": "display_data",
                    "data": {
                        "text/html": "(10 rows affected)"
                    },
                    "metadata": {}
                },
                {
                    "output_type": "display_data",
                    "data": {
                        "text/html": "Total execution time: 00:00:03.269"
                    },
                    "metadata": {}
                },
                {
                    "output_type": "execute_result",
                    "metadata": {},
                    "execution_count": 15,
                    "data": {
                        "application/vnd.dataresource+json": {
                            "schema": {
                                "fields": [
                                    {
                                        "name": "TotalRecords"
                                    }
                                ]
                            },
                            "data": [
                                {
                                    "0": "6770549"
                                }
                            ]
                        },
                        "text/html": "<table><tr><th>TotalRecords</th></tr><tr><td>6770549</td></tr></table>"
                    }
                },
                {
                    "output_type": "execute_result",
                    "metadata": {},
                    "execution_count": 15,
                    "data": {
                        "application/vnd.dataresource+json": {
                            "schema": {
                                "fields": [
                                    {
                                        "name": "wcs_click_date_sk"
                                    },
                                    {
                                        "name": "wcs_click_time_sk"
                                    },
                                    {
                                        "name": "wcs_sales_sk"
                                    },
                                    {
                                        "name": "wcs_item_sk"
                                    },
                                    {
                                        "name": "wcs_web_page_sk"
                                    },
                                    {
                                        "name": "wcs_user_sk"
                                    }
                                ]
                            },
                            "data": [
                                {
                                    "0": "37980",
                                    "1": "15568",
                                    "2": "NULL",
                                    "3": "14420",
                                    "4": "16",
                                    "5": "NULL"
                                },
                                {
                                    "0": "37980",
                                    "1": "75463",
                                    "2": "NULL",
                                    "3": "3728",
                                    "4": "16",
                                    "5": "NULL"
                                },
                                {
                                    "0": "37980",
                                    "1": "3663",
                                    "2": "NULL",
                                    "3": "16099",
                                    "4": "16",
                                    "5": "NULL"
                                },
                                {
                                    "0": "37980",
                                    "1": "45935",
                                    "2": "NULL",
                                    "3": "6411",
                                    "4": "16",
                                    "5": "NULL"
                                },
                                {
                                    "0": "37980",
                                    "1": "50658",
                                    "2": "NULL",
                                    "3": "11448",
                                    "4": "16",
                                    "5": "NULL"
                                },
                                {
                                    "0": "37980",
                                    "1": "52813",
                                    "2": "NULL",
                                    "3": "7567",
                                    "4": "16",
                                    "5": "NULL"
                                },
                                {
                                    "0": "37980",
                                    "1": "2736",
                                    "2": "NULL",
                                    "3": "16244",
                                    "4": "16",
                                    "5": "NULL"
                                },
                                {
                                    "0": "37980",
                                    "1": "18942",
                                    "2": "NULL",
                                    "3": "4177",
                                    "4": "16",
                                    "5": "NULL"
                                },
                                {
                                    "0": "37980",
                                    "1": "83424",
                                    "2": "NULL",
                                    "3": "11922",
                                    "4": "16",
                                    "5": "NULL"
                                },
                                {
                                    "0": "37980",
                                    "1": "83566",
                                    "2": "NULL",
                                    "3": "10624",
                                    "4": "16",
                                    "5": "NULL"
                                }
                            ]
                        },
                        "text/html": "<table><tr><th>wcs_click_date_sk</th><th>wcs_click_time_sk</th><th>wcs_sales_sk</th><th>wcs_item_sk</th><th>wcs_web_page_sk</th><th>wcs_user_sk</th></tr><tr><td>37980</td><td>15568</td><td>NULL</td><td>14420</td><td>16</td><td>NULL</td></tr><tr><td>37980</td><td>75463</td><td>NULL</td><td>3728</td><td>16</td><td>NULL</td></tr><tr><td>37980</td><td>3663</td><td>NULL</td><td>16099</td><td>16</td><td>NULL</td></tr><tr><td>37980</td><td>45935</td><td>NULL</td><td>6411</td><td>16</td><td>NULL</td></tr><tr><td>37980</td><td>50658</td><td>NULL</td><td>11448</td><td>16</td><td>NULL</td></tr><tr><td>37980</td><td>52813</td><td>NULL</td><td>7567</td><td>16</td><td>NULL</td></tr><tr><td>37980</td><td>2736</td><td>NULL</td><td>16244</td><td>16</td><td>NULL</td></tr><tr><td>37980</td><td>18942</td><td>NULL</td><td>4177</td><td>16</td><td>NULL</td></tr><tr><td>37980</td><td>83424</td><td>NULL</td><td>11922</td><td>16</td><td>NULL</td></tr><tr><td>37980</td><td>83566</td><td>NULL</td><td>10624</td><td>16</td><td>NULL</td></tr></table>"
                    }
                }
            ],
            "execution_count": 15
        },
        {
            "cell_type": "markdown",
            "source": "## Next Steps: Continue on to Working with Spark and ETL\r\n\r\nNow you're ready to open the next Python Notebook - `notebook_04.ipynb` - to learn how to create and work with Spark and Extracting, Transforming and Loading data.",
            "metadata": {}
        }
    ]
}