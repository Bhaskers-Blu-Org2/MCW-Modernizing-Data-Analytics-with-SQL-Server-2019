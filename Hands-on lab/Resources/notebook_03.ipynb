{
    "metadata": {
        "kernelspec": {
            "name": "SQL",
            "display_name": "SQL",
            "language": "sql"
        },
        "language_info": {
            "name": "sql",
            "version": ""
        }
    },
    "nbformat_minor": 2,
    "nbformat": 4,
    "cells": [
        {
            "cell_type": "markdown",
            "source": "<img src=\"https://github.com/Microsoft/sqlworkshops/blob/master/graphics/solutions-microsoft-logo-small.png?raw=true\" alt=\"Microsoft\">\r\n<br>\r\n\r\n# SQL Server 2019 big data cluster Tutorial\r\n## 03 - Creating and Querying a Data Mart\r\n\r\nIn this tutorial you will learn how to create and query a Data Mart using Virtualized Data in a SQL Server big data cluster. \r\n\r\nWide World Importers is interested in ingesting the data from web logs from an HDFS source where they have been streamed. They want to be able to analyze the traffic to see if there is a pattern in time, products or locations. \r\n\r\nThe web logs, however, are refreshed periodically. WWI would like to keep the logs in local storage to do deeper analysis. \r\n\r\nIn this Jupyter Notebook you'll create a location to store the log files as a SQL Server Table in the SQL Data Pool, and then fill it by creating an External Table that reads HDFS.",
            "metadata": {}
        },
        {
            "cell_type": "code",
            "source": "USE WideWorldImporters;\r\nGO\r\n\r\n  IF NOT EXISTS(SELECT * FROM sys.external_data_sources WHERE name = 'SqlDataPool')\r\n      CREATE EXTERNAL DATA SOURCE SqlDataPool\r\n      WITH (LOCATION = 'sqldatapool://controller-svc:8080/datapools/default');",
            "metadata": {},
            "outputs": [
                {
                    "output_type": "display_data",
                    "data": {
                        "text/html": "Commands completed successfully."
                    },
                    "metadata": {}
                },
                {
                    "output_type": "display_data",
                    "data": {
                        "text/html": "Total execution time: 00:00:00.0451090"
                    },
                    "metadata": {}
                },
                {
                    "output_type": "display_data",
                    "data": {
                        "text/html": "Commands completed successfully."
                    },
                    "metadata": {}
                },
                {
                    "output_type": "display_data",
                    "data": {
                        "text/html": "Total execution time: 00:00:00.0503210"
                    },
                    "metadata": {}
                }
            ],
            "execution_count": 1
        },
        {
            "cell_type": "code",
            "source": "CREATE EXTERNAL TABLE [web_clickstream_clicks_data_pool]\r\n    (\"wcs_click_date_sk\" BIGINT \r\n    , \"wcs_click_time_sk\" BIGINT \r\n    , \"wcs_sales_sk\" BIGINT \r\n    , \"wcs_item_sk\" BIGINT\r\n    , \"wcs_web_page_sk\" BIGINT \r\n    , \"wcs_user_sk\" BIGINT)\r\n    WITH\r\n    (\r\n    DATA_SOURCE = SqlDataPool,\r\n    DISTRIBUTION = ROUND_ROBIN\r\n    );\r\nGO",
            "metadata": {},
            "outputs": [
                {
                    "output_type": "display_data",
                    "data": {
                        "text/html": "Commands completed successfully."
                    },
                    "metadata": {}
                },
                {
                    "output_type": "display_data",
                    "data": {
                        "text/html": "Total execution time: 00:00:05.4046830"
                    },
                    "metadata": {}
                }
            ],
            "execution_count": 2
        },
        {
            "cell_type": "code",
            "source": "/* Create an External Table that can read from the Storage Pool File Location */\r\nIF NOT EXISTS(SELECT * FROM sys.external_tables WHERE name = 'web_clickstreams_hdfs')\r\nBEGIN\r\n    CREATE EXTERNAL TABLE [web_clickstreams_hdfs]\r\n    (\"wcs_click_date_sk\" BIGINT \r\n    , \"wcs_click_time_sk\" BIGINT \r\n    , \"wcs_sales_sk\" BIGINT \r\n    , \"wcs_item_sk\" BIGINT\r\n    , \"wcs_web_page_sk\" BIGINT \r\n    , \"wcs_user_sk\" BIGINT)\r\n    WITH\r\n    (\r\n        DATA_SOURCE = SqlStoragePool,\r\n        LOCATION = '/web_logs',\r\n        FILE_FORMAT = csv_file\r\n    );\r\nEND",
            "metadata": {},
            "outputs": [
                {
                    "output_type": "display_data",
                    "data": {
                        "text/html": "Commands completed successfully."
                    },
                    "metadata": {}
                },
                {
                    "output_type": "display_data",
                    "data": {
                        "text/html": "Total execution time: 00:00:00.0458750"
                    },
                    "metadata": {}
                }
            ],
            "execution_count": 4
        },
        {
            "cell_type": "code",
            "source": "BEGIN\r\n   INSERT INTO web_clickstream_clicks_data_pool\r\n   SELECT wcs_click_date_sk\r\n    , wcs_click_time_sk \r\n    , wcs_sales_sk \r\n    , wcs_item_sk \r\n    , wcs_web_page_sk  \r\n    , wcs_user_sk \r\n     FROM web_clickstreams_hdfs\r\nEND",
            "metadata": {},
            "outputs": [
                {
                    "output_type": "display_data",
                    "data": {
                        "text/html": "(6770549 rows affected)"
                    },
                    "metadata": {}
                },
                {
                    "output_type": "display_data",
                    "data": {
                        "text/html": "Total execution time: 00:00:52.5210020"
                    },
                    "metadata": {}
                }
            ],
            "execution_count": 5
        },
        {
            "cell_type": "code",
            "source": "SELECT count(*) FROM [dbo].[web_clickstream_clicks_data_pool]\r\nSELECT TOP 10 * FROM [dbo].[web_clickstream_clicks_data_pool]",
            "metadata": {},
            "outputs": [
                {
                    "output_type": "display_data",
                    "data": {
                        "text/html": "(1 row affected)"
                    },
                    "metadata": {}
                },
                {
                    "output_type": "display_data",
                    "data": {
                        "text/html": "(10 rows affected)"
                    },
                    "metadata": {}
                },
                {
                    "output_type": "display_data",
                    "data": {
                        "text/html": "Total execution time: 00:00:04.1182450"
                    },
                    "metadata": {}
                },
                {
                    "output_type": "execute_result",
                    "metadata": {},
                    "execution_count": 6,
                    "data": {
                        "application/vnd.dataresource+json": {
                            "schema": {
                                "fields": [
                                    {
                                        "name": "(No column name)"
                                    }
                                ]
                            },
                            "data": [
                                {
                                    "0": "6770549"
                                }
                            ]
                        },
                        "text/html": "<table><tr><th>(No column name)</th></tr><tr><td>6770549</td></tr></table>"
                    }
                },
                {
                    "output_type": "execute_result",
                    "metadata": {},
                    "execution_count": 6,
                    "data": {
                        "application/vnd.dataresource+json": {
                            "schema": {
                                "fields": [
                                    {
                                        "name": "wcs_click_date_sk"
                                    },
                                    {
                                        "name": "wcs_click_time_sk"
                                    },
                                    {
                                        "name": "wcs_sales_sk"
                                    },
                                    {
                                        "name": "wcs_item_sk"
                                    },
                                    {
                                        "name": "wcs_web_page_sk"
                                    },
                                    {
                                        "name": "wcs_user_sk"
                                    }
                                ]
                            },
                            "data": [
                                {
                                    "0": "37838",
                                    "1": "17302",
                                    "2": "NULL",
                                    "3": "6101",
                                    "4": "4",
                                    "5": "NULL"
                                },
                                {
                                    "0": "37838",
                                    "1": "12379",
                                    "2": "NULL",
                                    "3": "15071",
                                    "4": "4",
                                    "5": "NULL"
                                },
                                {
                                    "0": "37838",
                                    "1": "52794",
                                    "2": "NULL",
                                    "3": "8581",
                                    "4": "4",
                                    "5": "NULL"
                                },
                                {
                                    "0": "37838",
                                    "1": "56192",
                                    "2": "NULL",
                                    "3": "6950",
                                    "4": "4",
                                    "5": "NULL"
                                },
                                {
                                    "0": "37838",
                                    "1": "9679",
                                    "2": "NULL",
                                    "3": "9161",
                                    "4": "4",
                                    "5": "NULL"
                                },
                                {
                                    "0": "37838",
                                    "1": "79477",
                                    "2": "NULL",
                                    "3": "7446",
                                    "4": "4",
                                    "5": "NULL"
                                },
                                {
                                    "0": "37838",
                                    "1": "42948",
                                    "2": "NULL",
                                    "3": "585",
                                    "4": "4",
                                    "5": "NULL"
                                },
                                {
                                    "0": "37838",
                                    "1": "46974",
                                    "2": "NULL",
                                    "3": "11845",
                                    "4": "4",
                                    "5": "NULL"
                                },
                                {
                                    "0": "37838",
                                    "1": "61655",
                                    "2": "NULL",
                                    "3": "11210",
                                    "4": "4",
                                    "5": "NULL"
                                },
                                {
                                    "0": "37838",
                                    "1": "30273",
                                    "2": "NULL",
                                    "3": "1768",
                                    "4": "4",
                                    "5": "NULL"
                                }
                            ]
                        },
                        "text/html": "<table><tr><th>wcs_click_date_sk</th><th>wcs_click_time_sk</th><th>wcs_sales_sk</th><th>wcs_item_sk</th><th>wcs_web_page_sk</th><th>wcs_user_sk</th></tr><tr><td>37838</td><td>17302</td><td>NULL</td><td>6101</td><td>4</td><td>NULL</td></tr><tr><td>37838</td><td>12379</td><td>NULL</td><td>15071</td><td>4</td><td>NULL</td></tr><tr><td>37838</td><td>52794</td><td>NULL</td><td>8581</td><td>4</td><td>NULL</td></tr><tr><td>37838</td><td>56192</td><td>NULL</td><td>6950</td><td>4</td><td>NULL</td></tr><tr><td>37838</td><td>9679</td><td>NULL</td><td>9161</td><td>4</td><td>NULL</td></tr><tr><td>37838</td><td>79477</td><td>NULL</td><td>7446</td><td>4</td><td>NULL</td></tr><tr><td>37838</td><td>42948</td><td>NULL</td><td>585</td><td>4</td><td>NULL</td></tr><tr><td>37838</td><td>46974</td><td>NULL</td><td>11845</td><td>4</td><td>NULL</td></tr><tr><td>37838</td><td>61655</td><td>NULL</td><td>11210</td><td>4</td><td>NULL</td></tr><tr><td>37838</td><td>30273</td><td>NULL</td><td>1768</td><td>4</td><td>NULL</td></tr></table>"
                    }
                }
            ],
            "execution_count": 13
        },
        {
            "cell_type": "markdown",
            "source": "## Next Steps: Continue on to Working with Spark and ETL\r\n\r\nNow you're ready to open the next Python Notebook - `bdc_tutorial_04.ipynb` - to learn how to create and work with Spark and Extracting, Transforming and Loading data.",
            "metadata": {}
        }
    ]
}